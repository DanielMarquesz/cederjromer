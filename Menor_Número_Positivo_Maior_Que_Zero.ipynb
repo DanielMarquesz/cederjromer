{
  "nbformat": 4,
  "nbformat_minor": 0,
  "metadata": {
    "colab": {
      "name": "Menor Número Positivo Maior Que Zero",
      "provenance": [],
      "authorship_tag": "ABX9TyPDA5c6jToGPrg5g/WNk3WJ",
      "include_colab_link": true
    },
    "kernelspec": {
      "name": "python3",
      "display_name": "Python 3"
    }
  },
  "cells": [
    {
      "cell_type": "markdown",
      "metadata": {
        "id": "view-in-github",
        "colab_type": "text"
      },
      "source": [
        "<a href=\"https://colab.research.google.com/github/romerlrl/cederjromer/blob/master/Menor_N%C3%BAmero_Positivo_Maior_Que_Zero.ipynb\" target=\"_parent\"><img src=\"https://colab.research.google.com/assets/colab-badge.svg\" alt=\"Open In Colab\"/></a>"
      ]
    },
    {
      "cell_type": "markdown",
      "metadata": {
        "id": "fp8n8QKhN38O",
        "colab_type": "text"
      },
      "source": [
        "Essa redação surgiu de uma pergunta pessoal minha: \n",
        "Qual o menor número positivo maior que zero que Python reconhece?\n",
        "Sabemos que dentro da matemática, esse número não existe, mas devido as limitações de toda máquina, esse número certamente existe."
      ]
    },
    {
      "cell_type": "markdown",
      "metadata": {
        "id": "FRRrZppMQRqc",
        "colab_type": "text"
      },
      "source": [
        "\n",
        "\n",
        "```\n",
        "`# This is formatted as code`\n",
        "```\n",
        "\n",
        "O menor número positivo maior que zero com certeza será um número 1 antecedido por muitos \"zeros\". O que podemos representar com uma simples notação exponencial 10**-n.\n"
      ]
    },
    {
      "cell_type": "code",
      "metadata": {
        "id": "vs75uq0cQHbF",
        "colab_type": "code",
        "colab": {}
      },
      "source": [
        "def notacao_exponencial(n):\n",
        "  return 10**-n"
      ],
      "execution_count": 0,
      "outputs": []
    },
    {
      "cell_type": "markdown",
      "metadata": {
        "id": "kw-Vor-wcjIo",
        "colab_type": "text"
      },
      "source": [
        "Testamos então alguns exemplos arbitrários."
      ]
    },
    {
      "cell_type": "code",
      "metadata": {
        "id": "cUmrin99N3Qg",
        "colab_type": "code",
        "outputId": "1c8856c6-7d53-4d8e-c52b-cf7d46eeae09",
        "colab": {
          "base_uri": "https://localhost:8080/",
          "height": 72
        }
      },
      "source": [
        "print(notacao_exponencial(1))\n",
        "print(notacao_exponencial(10))\n",
        "print(notacao_exponencial(1000))"
      ],
      "execution_count": 0,
      "outputs": [
        {
          "output_type": "stream",
          "text": [
            "0.1\n",
            "1e-10\n",
            "0.0\n"
          ],
          "name": "stdout"
        }
      ]
    },
    {
      "cell_type": "markdown",
      "metadata": {
        "id": "OMil2Mx9dLi9",
        "colab_type": "text"
      },
      "source": [
        "Três resultados bem diferentes: O \"0.1\" é fácil de entender, o 0.0 representa que o Python não consegue trabalhar com o  10**-1000 e  o \"1e-10\" eu nunca tinha visto, precisamos ver se é uma mensagem de erro ou alguma outra coisa. Os três testes indicam que é apenas uma notação diferente para um float."
      ]
    },
    {
      "cell_type": "code",
      "metadata": {
        "id": "7G-mpoAqNtnG",
        "colab_type": "code",
        "outputId": "d09402f0-af20-4071-d0a1-982999ae2fbd",
        "colab": {
          "base_uri": "https://localhost:8080/",
          "height": 72
        }
      },
      "source": [
        "print(type(notacao_exponencial(10)))\n",
        "print(notacao_exponencial(10)*10)\n",
        "print(0.0000000001 == 1e-10)"
      ],
      "execution_count": 0,
      "outputs": [
        {
          "output_type": "stream",
          "text": [
            "<class 'float'>\n",
            "1e-09\n",
            "True\n"
          ],
          "name": "stdout"
        }
      ]
    },
    {
      "cell_type": "markdown",
      "metadata": {
        "id": "WmW0IXEeeBbO",
        "colab_type": "text"
      },
      "source": [
        "Cientes disso tudo podemos investigar o nosso problema: O menor número positivo maior que 0\n"
      ]
    },
    {
      "cell_type": "code",
      "metadata": {
        "id": "Ic50lDU4gAR-",
        "colab_type": "code",
        "outputId": "87e834c8-a7f2-4708-f0d7-ffde4d988c88",
        "colab": {
          "base_uri": "https://localhost:8080/",
          "height": 72
        }
      },
      "source": [
        "k=1\n",
        "while notacao_exponencial(k):\n",
        "  k+=1\n",
        "print(k)\n",
        "print(notacao_exponencial(k-1))\n",
        "print(notacao_exponencial(k))\n"
      ],
      "execution_count": 0,
      "outputs": [
        {
          "output_type": "stream",
          "text": [
            "324\n",
            "1e-323\n",
            "0.0\n"
          ],
          "name": "stdout"
        }
      ]
    },
    {
      "cell_type": "markdown",
      "metadata": {
        "id": "i9rH8aL1gl2U",
        "colab_type": "text"
      },
      "source": [
        "Com esse algoritmo descobrimos que o número procurado é 324. Mas o que esse número tem de especial?\n",
        "Minha primeira tentativa foi buscar na representação em binário e hexadecimal atrás de uma resposta."
      ]
    },
    {
      "cell_type": "code",
      "metadata": {
        "id": "gaPu3wPjglRG",
        "colab_type": "code",
        "outputId": "d5a384f3-a577-4a47-ee99-41a3a75cb32a",
        "colab": {
          "base_uri": "https://localhost:8080/",
          "height": 54
        }
      },
      "source": [
        "for i in range(323, 325):\n",
        "  print(bin(i), hex(i))"
      ],
      "execution_count": 0,
      "outputs": [
        {
          "output_type": "stream",
          "text": [
            "0b101000011 0x143\n",
            "0b101000100 0x144\n"
          ],
          "name": "stdout"
        }
      ]
    },
    {
      "cell_type": "markdown",
      "metadata": {
        "id": "ZIec2fgnNwZE",
        "colab_type": "text"
      },
      "source": [
        "O 144 me chamou a atenção, em decimal é o quadrado de doze. Por curiosidade, tirei então o quadrado de 323, 18. \n",
        "Provavelmente, o 18 está ligado a isso."
      ]
    },
    {
      "cell_type": "markdown",
      "metadata": {
        "id": "0orQcAiWrbnK",
        "colab_type": "text"
      },
      "source": [
        "Sabemos que não é possível dividir o 1e-323 por 0.1, mas e por números maiores?"
      ]
    },
    {
      "cell_type": "code",
      "metadata": {
        "id": "nCQGzU9irI2F",
        "colab_type": "code",
        "outputId": "6c13fd36-a81f-467e-cb7a-9b4685616a1d",
        "colab": {
          "base_uri": "https://localhost:8080/",
          "height": 164
        }
      },
      "source": [
        "for i in range(9, 1, -1):\n",
        "  print(1e-323*(i*0.1))"
      ],
      "execution_count": 0,
      "outputs": [
        {
          "output_type": "stream",
          "text": [
            "1e-323\n",
            "1e-323\n",
            "5e-324\n",
            "5e-324\n",
            "5e-324\n",
            "5e-324\n",
            "5e-324\n",
            "0.0\n"
          ],
          "name": "stdout"
        }
      ]
    },
    {
      "cell_type": "markdown",
      "metadata": {
        "id": "A9jmb4ZjsHs5",
        "colab_type": "text"
      },
      "source": [
        "Curiosamente 8 operações com diferentes fatores resultou em apenas 3 produtos. Vamos testá-los."
      ]
    },
    {
      "cell_type": "code",
      "metadata": {
        "id": "AGas1Wagr6pn",
        "colab_type": "code",
        "outputId": "db9a4fe2-47ef-454b-f23e-58b59a216153",
        "colab": {
          "base_uri": "https://localhost:8080/",
          "height": 109
        }
      },
      "source": [
        "print(1e-323*0.8==1e-323*0.9)\n",
        "print(1e-323>5e-324)\n",
        "print(5e-324+5e-324)\n",
        "print(5e-324/2)\n",
        "print(7e-324)"
      ],
      "execution_count": 0,
      "outputs": [
        {
          "output_type": "stream",
          "text": [
            "True\n",
            "True\n",
            "1e-323\n",
            "0.0\n",
            "5e-324\n"
          ],
          "name": "stdout"
        }
      ]
    },
    {
      "cell_type": "markdown",
      "metadata": {
        "id": "QgBuHuKd0kGp",
        "colab_type": "text"
      },
      "source": [
        "Com essa verificação final, pudemos encontrar não apenas o menor número positivo maior que 0 como também o segundo menor número positivo maior que zero representáveis em Python."
      ]
    }
  ]
}